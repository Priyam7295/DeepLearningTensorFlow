{
  "nbformat": 4,
  "nbformat_minor": 0,
  "metadata": {
    "colab": {
      "provenance": []
    },
    "kernelspec": {
      "name": "python3",
      "display_name": "Python 3"
    },
    "language_info": {
      "name": "python"
    }
  },
  "cells": [
    {
      "cell_type": "code",
      "execution_count": 9,
      "metadata": {
        "id": "LafE41kG9333"
      },
      "outputs": [],
      "source": [
        "import numpy as np\n",
        "import tensorflow as tf"
      ]
    },
    {
      "cell_type": "code",
      "source": [
        "from tensorflow.keras.datasets import mnist\n",
        "(X_train, y_train), (X_test, y_test) = mnist.load_data()"
      ],
      "metadata": {
        "id": "myROLzko-DxV"
      },
      "execution_count": 3,
      "outputs": []
    },
    {
      "cell_type": "code",
      "source": [
        "print(X_train.shape)\n",
        "print(y_train.shape)\n",
        "\n",
        "print(X_test.shape)\n",
        "print(y_test.shape)"
      ],
      "metadata": {
        "colab": {
          "base_uri": "https://localhost:8080/"
        },
        "id": "cBpQYnQ0-MHh",
        "outputId": "cf31723f-7d37-4835-d8d8-5772a25ae148"
      },
      "execution_count": 7,
      "outputs": [
        {
          "output_type": "stream",
          "name": "stdout",
          "text": [
            "(60000, 28, 28)\n",
            "(60000,)\n",
            "(10000, 28, 28)\n",
            "(10000,)\n"
          ]
        }
      ]
    },
    {
      "cell_type": "markdown",
      "source": [
        "TO DO\n",
        "1. scale images\n",
        "2. shape of images to be same\n",
        "3. Create batch of fixed shape of images and corresponding labels\n",
        "4. Cast to float(if not already)"
      ],
      "metadata": {
        "id": "QqeOTpJs-i3z"
      }
    },
    {
      "cell_type": "markdown",
      "source": [
        "##using tf.data.Dataset.from_tensor_slices()"
      ],
      "metadata": {
        "id": "p-swMXuk_fng"
      }
    },
    {
      "cell_type": "markdown",
      "source": [
        "Example 1."
      ],
      "metadata": {
        "id": "lyloTlqV_gwX"
      }
    },
    {
      "cell_type": "code",
      "source": [
        "# using tf.data.Dataset.from_tensor_slices()\n",
        "\n",
        "array =[1,3,4,2,34,51,3]\n",
        "dataset = tf.data.Dataset.from_tensor_slices(array)\n",
        "dataset"
      ],
      "metadata": {
        "colab": {
          "base_uri": "https://localhost:8080/"
        },
        "id": "SPEbBNyx-Tce",
        "outputId": "be600fe6-e1c7-464b-b2bf-bdf2031676fe"
      },
      "execution_count": 10,
      "outputs": [
        {
          "output_type": "execute_result",
          "data": {
            "text/plain": [
              "<_TensorSliceDataset element_spec=TensorSpec(shape=(), dtype=tf.int32, name=None)>"
            ]
          },
          "metadata": {},
          "execution_count": 10
        }
      ]
    },
    {
      "cell_type": "markdown",
      "source": [
        "dataset is of type TensorSliceDataset in which entry is in tensors"
      ],
      "metadata": {
        "id": "cOGhPKJmAqdB"
      }
    },
    {
      "cell_type": "code",
      "source": [
        "print(type(dataset))\n",
        "print(len(dataset))"
      ],
      "metadata": {
        "colab": {
          "base_uri": "https://localhost:8080/"
        },
        "id": "fkG3oTc2_Ibs",
        "outputId": "3b99e467-891c-4eb0-e5b9-0e07f918284e"
      },
      "execution_count": 22,
      "outputs": [
        {
          "output_type": "stream",
          "name": "stdout",
          "text": [
            "<class 'tensorflow.python.data.ops.from_tensor_slices_op._TensorSliceDataset'>\n",
            "7\n"
          ]
        }
      ]
    },
    {
      "cell_type": "code",
      "source": [
        "for data in dataset:\n",
        "  print(data)\n",
        "print(\"\\n\")\n",
        "for data in dataset:\n",
        "  print(data.numpy())"
      ],
      "metadata": {
        "colab": {
          "base_uri": "https://localhost:8080/"
        },
        "id": "abfgLuw5_NNf",
        "outputId": "0a1942fc-4df4-456d-af09-0933b1fb11fe"
      },
      "execution_count": 13,
      "outputs": [
        {
          "output_type": "stream",
          "name": "stdout",
          "text": [
            "tf.Tensor(1, shape=(), dtype=int32)\n",
            "tf.Tensor(3, shape=(), dtype=int32)\n",
            "tf.Tensor(4, shape=(), dtype=int32)\n",
            "tf.Tensor(2, shape=(), dtype=int32)\n",
            "tf.Tensor(34, shape=(), dtype=int32)\n",
            "tf.Tensor(51, shape=(), dtype=int32)\n",
            "tf.Tensor(3, shape=(), dtype=int32)\n",
            "\n",
            "\n",
            "1\n",
            "3\n",
            "4\n",
            "2\n",
            "34\n",
            "51\n",
            "3\n"
          ]
        }
      ]
    },
    {
      "cell_type": "markdown",
      "source": [
        "Example 2."
      ],
      "metadata": {
        "id": "424QkDaP_QbU"
      }
    },
    {
      "cell_type": "code",
      "source": [
        "# lets say X is 1d and y is 1d as in case of Linear regression in one variable\n",
        "\n",
        "X_train=[23,4,32,14,5,224,52]\n",
        "y_train=[1,34,221,43,113,413,31]\n",
        "\n",
        "\n",
        "X_test=[13,23]\n",
        "y_test=[32,76]\n",
        "\n",
        "train_dataset =tf.data.Dataset.from_tensor_slices((X_train,y_train))\n"
      ],
      "metadata": {
        "id": "5egQQi26_mI9"
      },
      "execution_count": 17,
      "outputs": []
    },
    {
      "cell_type": "code",
      "source": [
        "train_dataset"
      ],
      "metadata": {
        "colab": {
          "base_uri": "https://localhost:8080/"
        },
        "id": "3uVFuiWs_xBX",
        "outputId": "eb4b8e42-e944-46a8-be1b-2d4818f089ba"
      },
      "execution_count": 18,
      "outputs": [
        {
          "output_type": "execute_result",
          "data": {
            "text/plain": [
              "<_TensorSliceDataset element_spec=(TensorSpec(shape=(), dtype=tf.int32, name=None), TensorSpec(shape=(), dtype=tf.int32, name=None))>"
            ]
          },
          "metadata": {},
          "execution_count": 18
        }
      ]
    },
    {
      "cell_type": "code",
      "source": [
        "print(len(train_dataset))"
      ],
      "metadata": {
        "colab": {
          "base_uri": "https://localhost:8080/"
        },
        "id": "rVcKWnv5APmj",
        "outputId": "3dc1d098-0a11-4628-aff7-9b1aa97bed2a"
      },
      "execution_count": 19,
      "outputs": [
        {
          "output_type": "stream",
          "name": "stdout",
          "text": [
            "7\n"
          ]
        }
      ]
    },
    {
      "cell_type": "code",
      "source": [
        "for input,output in train_dataset:\n",
        "  print(input ,output)"
      ],
      "metadata": {
        "colab": {
          "base_uri": "https://localhost:8080/"
        },
        "id": "F90fL_q-ATCv",
        "outputId": "26849bb0-5c60-4592-8600-5fe90566d488"
      },
      "execution_count": 20,
      "outputs": [
        {
          "output_type": "stream",
          "name": "stdout",
          "text": [
            "tf.Tensor(23, shape=(), dtype=int32) tf.Tensor(1, shape=(), dtype=int32)\n",
            "tf.Tensor(4, shape=(), dtype=int32) tf.Tensor(34, shape=(), dtype=int32)\n",
            "tf.Tensor(32, shape=(), dtype=int32) tf.Tensor(221, shape=(), dtype=int32)\n",
            "tf.Tensor(14, shape=(), dtype=int32) tf.Tensor(43, shape=(), dtype=int32)\n",
            "tf.Tensor(5, shape=(), dtype=int32) tf.Tensor(113, shape=(), dtype=int32)\n",
            "tf.Tensor(224, shape=(), dtype=int32) tf.Tensor(413, shape=(), dtype=int32)\n",
            "tf.Tensor(52, shape=(), dtype=int32) tf.Tensor(31, shape=(), dtype=int32)\n"
          ]
        }
      ]
    },
    {
      "cell_type": "code",
      "source": [
        "for input,output in train_dataset:\n",
        "  print(input.numpy() ,output.numpy())"
      ],
      "metadata": {
        "colab": {
          "base_uri": "https://localhost:8080/"
        },
        "id": "5EuSvx1pAk2z",
        "outputId": "06ee0d85-c316-4451-df58-76a7cafbc846"
      },
      "execution_count": 21,
      "outputs": [
        {
          "output_type": "stream",
          "name": "stdout",
          "text": [
            "23 1\n",
            "4 34\n",
            "32 221\n",
            "14 43\n",
            "5 113\n",
            "224 413\n",
            "52 31\n"
          ]
        }
      ]
    },
    {
      "cell_type": "markdown",
      "source": [
        "3."
      ],
      "metadata": {
        "id": "PCeVp7sYAoPd"
      }
    },
    {
      "cell_type": "code",
      "source": [
        "X=[[2,3],[4,5],[13,43],[3421,21],[123,2]]\n",
        "y=[0,1,1,0,1]\n",
        "\n",
        "dataset = tf.data.Dataset.from_tensor_slices((X,y))\n",
        "dataset"
      ],
      "metadata": {
        "colab": {
          "base_uri": "https://localhost:8080/"
        },
        "id": "V6rjCYGgBFOQ",
        "outputId": "c826d68e-d4dc-45e9-f530-2785f835cfbf"
      },
      "execution_count": 32,
      "outputs": [
        {
          "output_type": "execute_result",
          "data": {
            "text/plain": [
              "<_TensorSliceDataset element_spec=(TensorSpec(shape=(2,), dtype=tf.int32, name=None), TensorSpec(shape=(), dtype=tf.int32, name=None))>"
            ]
          },
          "metadata": {},
          "execution_count": 32
        }
      ]
    },
    {
      "cell_type": "code",
      "source": [
        "for input ,label in dataset:\n",
        "  print(input.numpy(),label.numpy())\n",
        "# since not using shuffle, hence the order of this will remain the same"
      ],
      "metadata": {
        "colab": {
          "base_uri": "https://localhost:8080/"
        },
        "id": "Jxp75cNMBara",
        "outputId": "8f767924-5132-41bb-efbc-55160c7939df"
      },
      "execution_count": 37,
      "outputs": [
        {
          "output_type": "stream",
          "name": "stdout",
          "text": [
            "[2 3] 0\n",
            "[4 5] 1\n",
            "[13 43] 1\n",
            "[3421   21] 0\n",
            "[123   2] 1\n"
          ]
        }
      ]
    },
    {
      "cell_type": "code",
      "source": [
        "for input,label in dataset.take(1):\n",
        "  print(input.numpy(),label.numpy())"
      ],
      "metadata": {
        "colab": {
          "base_uri": "https://localhost:8080/"
        },
        "id": "tmL3Ze8vBtQn",
        "outputId": "aafa9c28-6e4b-4622-8844-20824c1270cb"
      },
      "execution_count": 34,
      "outputs": [
        {
          "output_type": "stream",
          "name": "stdout",
          "text": [
            "[2 3] 0\n"
          ]
        }
      ]
    },
    {
      "cell_type": "markdown",
      "source": [
        "**Since not using shuffle, hence this take(1) gives same output everytime**"
      ],
      "metadata": {
        "id": "_sBfNJO5Bxi5"
      }
    },
    {
      "cell_type": "code",
      "source": [
        "X=[[2,3],[4,5],[13,43],[3421,21],[123,2]]\n",
        "y=[0,1,1,0,1]\n",
        "\n",
        "dataset = tf.data.Dataset.from_tensor_slices((X,y))\n",
        "dataset= dataset.shuffle(buffer_size=5)\n",
        "dataset"
      ],
      "metadata": {
        "colab": {
          "base_uri": "https://localhost:8080/"
        },
        "id": "JsUws9EyCGTk",
        "outputId": "4f6473c0-c27b-4149-fa06-7718d2e87398"
      },
      "execution_count": 41,
      "outputs": [
        {
          "output_type": "execute_result",
          "data": {
            "text/plain": [
              "<_ShuffleDataset element_spec=(TensorSpec(shape=(2,), dtype=tf.int32, name=None), TensorSpec(shape=(), dtype=tf.int32, name=None))>"
            ]
          },
          "metadata": {},
          "execution_count": 41
        }
      ]
    },
    {
      "cell_type": "code",
      "source": [
        "for input ,label in dataset:\n",
        "  print(input.numpy(),label.numpy())"
      ],
      "metadata": {
        "colab": {
          "base_uri": "https://localhost:8080/"
        },
        "id": "aOAeeKYgCKRo",
        "outputId": "e99a8fc0-19f3-4003-f3b9-d0b9c461d28d"
      },
      "execution_count": 42,
      "outputs": [
        {
          "output_type": "stream",
          "name": "stdout",
          "text": [
            "[2 3] 0\n",
            "[123   2] 1\n",
            "[13 43] 1\n",
            "[3421   21] 0\n",
            "[4 5] 1\n"
          ]
        }
      ]
    },
    {
      "cell_type": "code",
      "source": [
        "for input,label in dataset.take(1):\n",
        "  print(input.numpy(),label.numpy())"
      ],
      "metadata": {
        "colab": {
          "base_uri": "https://localhost:8080/"
        },
        "id": "NebuI5SWCMCq",
        "outputId": "9abbcbd6-ac6e-4cfb-9a3c-3a2a48e7e520"
      },
      "execution_count": 43,
      "outputs": [
        {
          "output_type": "stream",
          "name": "stdout",
          "text": [
            "[4 5] 1\n"
          ]
        }
      ]
    },
    {
      "cell_type": "markdown",
      "source": [
        "## .map function"
      ],
      "metadata": {
        "id": "Iqm5eDw-CZWB"
      }
    },
    {
      "cell_type": "markdown",
      "source": [
        "1."
      ],
      "metadata": {
        "id": "ayrPE2TjDWfu"
      }
    },
    {
      "cell_type": "code",
      "source": [
        "X=[1,3,4,2,23]\n",
        "dataset = tf.data.Dataset.from_tensor_slices(X)\n",
        "# X=tf.constant(X)\n",
        "\n",
        "def add_2(num):\n",
        "  return num+2\n",
        "\n",
        "dataset=dataset.map(add_2)\n",
        "print(dataset)\n"
      ],
      "metadata": {
        "colab": {
          "base_uri": "https://localhost:8080/"
        },
        "id": "7-Vkl8gWChez",
        "outputId": "8e173140-4cb0-4147-d260-6710fb6cf445"
      },
      "execution_count": 48,
      "outputs": [
        {
          "output_type": "stream",
          "name": "stdout",
          "text": [
            "<_MapDataset element_spec=TensorSpec(shape=(), dtype=tf.int32, name=None)>\n"
          ]
        }
      ]
    },
    {
      "cell_type": "code",
      "source": [
        "for data in dataset:\n",
        "  print(data)"
      ],
      "metadata": {
        "colab": {
          "base_uri": "https://localhost:8080/"
        },
        "id": "RxkZmq86CrK5",
        "outputId": "2da882be-1d6a-456c-e61a-007738523ff5"
      },
      "execution_count": 49,
      "outputs": [
        {
          "output_type": "stream",
          "name": "stdout",
          "text": [
            "tf.Tensor(3, shape=(), dtype=int32)\n",
            "tf.Tensor(5, shape=(), dtype=int32)\n",
            "tf.Tensor(6, shape=(), dtype=int32)\n",
            "tf.Tensor(4, shape=(), dtype=int32)\n",
            "tf.Tensor(25, shape=(), dtype=int32)\n"
          ]
        }
      ]
    },
    {
      "cell_type": "markdown",
      "source": [
        "2."
      ],
      "metadata": {
        "id": "YJ_nc08rDD1K"
      }
    },
    {
      "cell_type": "markdown",
      "source": [
        "Similar to case   when we have images in list/np array whatever and we need to normalise it ,we can use .map function"
      ],
      "metadata": {
        "id": "jyxl8xXYD10R"
      }
    },
    {
      "cell_type": "code",
      "source": [
        "X=[ np.array([[2,3],[7,2]]) ,np.array([[2,3],[8,10]]),np.array([[1,5],[6,9]]) ,np.array([[4,8],[7,2]]) ]\n",
        "y=[2,3,4,1]\n",
        "print(X[0].shape)\n",
        "\n",
        "dataset = tf.data.Dataset.from_tensor_slices((X,y))\n",
        "print(dataset)\n"
      ],
      "metadata": {
        "colab": {
          "base_uri": "https://localhost:8080/"
        },
        "id": "kwwwfOyfDYCm",
        "outputId": "20b0dc79-e163-4ecf-87dd-a5b61461654e"
      },
      "execution_count": 54,
      "outputs": [
        {
          "output_type": "stream",
          "name": "stdout",
          "text": [
            "(2, 2)\n",
            "<_TensorSliceDataset element_spec=(TensorSpec(shape=(2, 2), dtype=tf.int64, name=None), TensorSpec(shape=(), dtype=tf.int32, name=None))>\n"
          ]
        }
      ]
    },
    {
      "cell_type": "code",
      "source": [
        "def scaling(image,label):\n",
        "  return tf.cast(image ,tf.float32)/10.,label\n",
        "\n",
        "dataset = dataset.map(scaling)\n"
      ],
      "metadata": {
        "id": "K3CXAIRkD0U6"
      },
      "execution_count": 57,
      "outputs": []
    },
    {
      "cell_type": "code",
      "source": [
        "print(len(dataset))"
      ],
      "metadata": {
        "colab": {
          "base_uri": "https://localhost:8080/"
        },
        "id": "6VLpbS6cFt8k",
        "outputId": "d3041a19-f060-46c0-d5ed-41d2cbd39e25"
      },
      "execution_count": 60,
      "outputs": [
        {
          "output_type": "stream",
          "name": "stdout",
          "text": [
            "4\n"
          ]
        }
      ]
    },
    {
      "cell_type": "code",
      "source": [
        "for images ,labels in dataset:\n",
        "  print(images.numpy() , labels.numpy())"
      ],
      "metadata": {
        "colab": {
          "base_uri": "https://localhost:8080/"
        },
        "id": "LDdHZkhIFBnt",
        "outputId": "0d5210cc-f91e-4d3d-d2d2-0dc2ceffcf12"
      },
      "execution_count": 62,
      "outputs": [
        {
          "output_type": "stream",
          "name": "stdout",
          "text": [
            "[[0.2 0.3]\n",
            " [0.7 0.2]] 2\n",
            "[[0.2 0.3]\n",
            " [0.8 1. ]] 3\n",
            "[[0.1 0.5]\n",
            " [0.6 0.9]] 4\n",
            "[[0.4 0.8]\n",
            " [0.7 0.2]] 1\n"
          ]
        }
      ]
    },
    {
      "cell_type": "markdown",
      "source": [
        "## Creating Complete input pipeline"
      ],
      "metadata": {
        "id": "dPqjIwFIFsDs"
      }
    },
    {
      "cell_type": "code",
      "source": [
        "from tensorflow.keras.datasets import mnist\n",
        "\n",
        "(X_train, y_train), (X_test, y_test) = mnist.load_data()"
      ],
      "metadata": {
        "id": "w2G1HSTFGHg2"
      },
      "execution_count": 63,
      "outputs": []
    },
    {
      "cell_type": "code",
      "source": [
        "print(X_train.shape)\n",
        "print(y_train.shape)\n",
        "\n",
        "print(X_test.shape)\n",
        "print(y_test.shape)"
      ],
      "metadata": {
        "colab": {
          "base_uri": "https://localhost:8080/"
        },
        "id": "R9ZjzzC0GJHC",
        "outputId": "d1d7b7c0-e966-4957-9ee6-d4e9a5efc262"
      },
      "execution_count": 64,
      "outputs": [
        {
          "output_type": "stream",
          "name": "stdout",
          "text": [
            "(60000, 28, 28)\n",
            "(60000,)\n",
            "(10000, 28, 28)\n",
            "(10000,)\n"
          ]
        }
      ]
    },
    {
      "cell_type": "code",
      "source": [
        "import matplotlib.pyplot as plt\n",
        "plt.imshow(X_train[0])\n",
        "plt.title(y_train[0])\n",
        "plt.axis(\"off\")"
      ],
      "metadata": {
        "colab": {
          "base_uri": "https://localhost:8080/",
          "height": 445
        },
        "id": "Ie9ndrVLGNFi",
        "outputId": "5477e302-48d6-459d-f438-5cfdfb819d14"
      },
      "execution_count": 72,
      "outputs": [
        {
          "output_type": "execute_result",
          "data": {
            "text/plain": [
              "(-0.5, 27.5, 27.5, -0.5)"
            ]
          },
          "metadata": {},
          "execution_count": 72
        },
        {
          "output_type": "display_data",
          "data": {
            "text/plain": [
              "<Figure size 640x480 with 1 Axes>"
            ],
            "image/png": "[encoded data removed]"
          },
          "metadata": {}
        }
      ]
    },
    {
      "cell_type": "code",
      "source": [
        "X_train[0].shape"
      ],
      "metadata": {
        "colab": {
          "base_uri": "https://localhost:8080/"
        },
        "id": "2oOHZLfrG8ez",
        "outputId": "09a8acc8-84ba-4ed1-8939-224018166274"
      },
      "execution_count": 79,
      "outputs": [
        {
          "output_type": "execute_result",
          "data": {
            "text/plain": [
              "(28, 28)"
            ]
          },
          "metadata": {},
          "execution_count": 79
        }
      ]
    },
    {
      "cell_type": "code",
      "source": [
        "print(tf.reduce_max(X_train[0]))\n",
        "print(tf.reduce_min(X_train[0]))"
      ],
      "metadata": {
        "colab": {
          "base_uri": "https://localhost:8080/"
        },
        "id": "1tmDvXpIGkeU",
        "outputId": "92c5425a-5fe0-4ce8-e5ed-36f90083c234"
      },
      "execution_count": 76,
      "outputs": [
        {
          "output_type": "stream",
          "name": "stdout",
          "text": [
            "tf.Tensor(255, shape=(), dtype=uint8)\n",
            "tf.Tensor(0, shape=(), dtype=uint8)\n"
          ]
        }
      ]
    },
    {
      "cell_type": "code",
      "source": [
        "example_dataset = tf.data.Dataset.from_tensor_slices((X_train,y_train))\n",
        "example_dataset"
      ],
      "metadata": {
        "colab": {
          "base_uri": "https://localhost:8080/"
        },
        "id": "WZRdBRG3GRW7",
        "outputId": "701d1cec-0d09-4b50-a400-a52346c6b735"
      },
      "execution_count": 77,
      "outputs": [
        {
          "output_type": "execute_result",
          "data": {
            "text/plain": [
              "<_TensorSliceDataset element_spec=(TensorSpec(shape=(28, 28), dtype=tf.uint8, name=None), TensorSpec(shape=(), dtype=tf.uint8, name=None))>"
            ]
          },
          "metadata": {},
          "execution_count": 77
        }
      ]
    },
    {
      "cell_type": "code",
      "source": [
        "print(\"Len of dataset\",len(example_dataset))"
      ],
      "metadata": {
        "colab": {
          "base_uri": "https://localhost:8080/"
        },
        "id": "OM7c9VtkG3lg",
        "outputId": "744dd1b6-5169-4f90-9eed-a85bd4b97b58"
      },
      "execution_count": 80,
      "outputs": [
        {
          "output_type": "stream",
          "name": "stdout",
          "text": [
            "Len of dataset 60000\n"
          ]
        }
      ]
    },
    {
      "cell_type": "code",
      "source": [
        "for images,labels in example_dataset.take(1):\n",
        "  print(images.numpy(),labels.shape)\n",
        "  break"
      ],
      "metadata": {
        "colab": {
          "base_uri": "https://localhost:8080/"
        },
        "id": "eg6cGsGbHDlY",
        "outputId": "7ce3a8b9-7e88-47d5-a0d7-9c45406c8d33"
      },
      "execution_count": 87,
      "outputs": [
        {
          "output_type": "stream",
          "name": "stdout",
          "text": [
            "[[  0   0   0   0   0   0   0   0   0   0   0   0   0   0   0   0   0   0\n",
            "    0   0   0   0   0   0   0   0   0   0]\n",
            " [  0   0   0   0   0   0   0   0   0   0   0   0   0   0   0   0   0   0\n",
            "    0   0   0   0   0   0   0   0   0   0]\n",
            " [  0   0   0   0   0   0   0   0   0   0   0   0   0   0   0   0   0   0\n",
            "    0   0   0   0   0   0   0   0   0   0]\n",
            " [  0   0   0   0   0   0   0   0   0   0   0   0   0   0   0   0   0   0\n",
            "    0   0   0   0   0   0   0   0   0   0]\n",
            " [  0   0   0   0   0   0   0   0   0   0   0   0   0   0   0   0   0   0\n",
            "    0   0   0   0   0   0   0   0   0   0]\n",
            " [  0   0   0   0   0   0   0   0   0   0   0   0   3  18  18  18 126 136\n",
            "  175  26 166 255 247 127   0   0   0   0]\n",
            " [  0   0   0   0   0   0   0   0  30  36  94 154 170 253 253 253 253 253\n",
            "  225 172 253 242 195  64   0   0   0   0]\n",
            " [  0   0   0   0   0   0   0  49 238 253 253 253 253 253 253 253 253 251\n",
            "   93  82  82  56  39   0   0   0   0   0]\n",
            " [  0   0   0   0   0   0   0  18 219 253 253 253 253 253 198 182 247 241\n",
            "    0   0   0   0   0   0   0   0   0   0]\n",
            " [  0   0   0   0   0   0   0   0  80 156 107 253 253 205  11   0  43 154\n",
            "    0   0   0   0   0   0   0   0   0   0]\n",
            " [  0   0   0   0   0   0   0   0   0  14   1 154 253  90   0   0   0   0\n",
            "    0   0   0   0   0   0   0   0   0   0]\n",
            " [  0   0   0   0   0   0   0   0   0   0   0 139 253 190   2   0   0   0\n",
            "    0   0   0   0   0   0   0   0   0   0]\n",
            " [  0   0   0   0   0   0   0   0   0   0   0  11 190 253  70   0   0   0\n",
            "    0   0   0   0   0   0   0   0   0   0]\n",
            " [  0   0   0   0   0   0   0   0   0   0   0   0  35 241 225 160 108   1\n",
            "    0   0   0   0   0   0   0   0   0   0]\n",
            " [  0   0   0   0   0   0   0   0   0   0   0   0   0  81 240 253 253 119\n",
            "   25   0   0   0   0   0   0   0   0   0]\n",
            " [  0   0   0   0   0   0   0   0   0   0   0   0   0   0  45 186 253 253\n",
            "  150  27   0   0   0   0   0   0   0   0]\n",
            " [  0   0   0   0   0   0   0   0   0   0   0   0   0   0   0  16  93 252\n",
            "  253 187   0   0   0   0   0   0   0   0]\n",
            " [  0   0   0   0   0   0   0   0   0   0   0   0   0   0   0   0   0 249\n",
            "  253 249  64   0   0   0   0   0   0   0]\n",
            " [  0   0   0   0   0   0   0   0   0   0   0   0   0   0  46 130 183 253\n",
            "  253 207   2   0   0   0   0   0   0   0]\n",
            " [  0   0   0   0   0   0   0   0   0   0   0   0  39 148 229 253 253 253\n",
            "  250 182   0   0   0   0   0   0   0   0]\n",
            " [  0   0   0   0   0   0   0   0   0   0  24 114 221 253 253 253 253 201\n",
            "   78   0   0   0   0   0   0   0   0   0]\n",
            " [  0   0   0   0   0   0   0   0  23  66 213 253 253 253 253 198  81   2\n",
            "    0   0   0   0   0   0   0   0   0   0]\n",
            " [  0   0   0   0   0   0  18 171 219 253 253 253 253 195  80   9   0   0\n",
            "    0   0   0   0   0   0   0   0   0   0]\n",
            " [  0   0   0   0  55 172 226 253 253 253 253 244 133  11   0   0   0   0\n",
            "    0   0   0   0   0   0   0   0   0   0]\n",
            " [  0   0   0   0 136 253 253 253 212 135 132  16   0   0   0   0   0   0\n",
            "    0   0   0   0   0   0   0   0   0   0]\n",
            " [  0   0   0   0   0   0   0   0   0   0   0   0   0   0   0   0   0   0\n",
            "    0   0   0   0   0   0   0   0   0   0]\n",
            " [  0   0   0   0   0   0   0   0   0   0   0   0   0   0   0   0   0   0\n",
            "    0   0   0   0   0   0   0   0   0   0]\n",
            " [  0   0   0   0   0   0   0   0   0   0   0   0   0   0   0   0   0   0\n",
            "    0   0   0   0   0   0   0   0   0   0]] ()\n"
          ]
        }
      ]
    },
    {
      "cell_type": "code",
      "source": [
        "def normalize_img(image ,label):\n",
        "  return (tf.cast(image,tf.float32)/255.0 ,label )"
      ],
      "metadata": {
        "id": "T8XfmHp3HGZb"
      },
      "execution_count": 88,
      "outputs": []
    },
    {
      "cell_type": "code",
      "source": [
        "example_dataset = example_dataset.map(normalize_img)\n",
        "example_dataset"
      ],
      "metadata": {
        "colab": {
          "base_uri": "https://localhost:8080/"
        },
        "id": "GIpUWcR1Hna8",
        "outputId": "6aaf8c72-2e2d-4427-9cd5-84c7723cd43e"
      },
      "execution_count": 90,
      "outputs": [
        {
          "output_type": "execute_result",
          "data": {
            "text/plain": [
              "<_MapDataset element_spec=(TensorSpec(shape=(28, 28), dtype=tf.float32, name=None), TensorSpec(shape=(), dtype=tf.uint8, name=None))>"
            ]
          },
          "metadata": {},
          "execution_count": 90
        }
      ]
    },
    {
      "cell_type": "code",
      "source": [
        "print(len(example_dataset))"
      ],
      "metadata": {
        "colab": {
          "base_uri": "https://localhost:8080/"
        },
        "id": "VuIeJ37IHplx",
        "outputId": "5a71893f-8a8d-471b-da81-bd1d2ffdf391"
      },
      "execution_count": 91,
      "outputs": [
        {
          "output_type": "stream",
          "name": "stdout",
          "text": [
            "60000\n"
          ]
        }
      ]
    },
    {
      "cell_type": "code",
      "source": [
        "for image,label in example_dataset.take(1):\n",
        "  print(image.numpy(),label.numpy())"
      ],
      "metadata": {
        "colab": {
          "base_uri": "https://localhost:8080/"
        },
        "id": "xmQxmjcJHtaR",
        "outputId": "fafb4315-86ba-47b4-e7dd-e93b7097d8e7"
      },
      "execution_count": 92,
      "outputs": [
        {
          "output_type": "stream",
          "name": "stdout",
          "text": [
            "[[0.0000000e+00 0.0000000e+00 0.0000000e+00 0.0000000e+00 0.0000000e+00\n",
            "  0.0000000e+00 0.0000000e+00 0.0000000e+00 0.0000000e+00 0.0000000e+00\n",
            "  0.0000000e+00 0.0000000e+00 0.0000000e+00 0.0000000e+00 0.0000000e+00\n",
            "  0.0000000e+00 0.0000000e+00 0.0000000e+00 0.0000000e+00 0.0000000e+00\n",
            "  0.0000000e+00 0.0000000e+00 0.0000000e+00 0.0000000e+00 0.0000000e+00\n",
            "  0.0000000e+00 0.0000000e+00 0.0000000e+00]\n",
            " [0.0000000e+00 0.0000000e+00 0.0000000e+00 0.0000000e+00 0.0000000e+00\n",
            "  0.0000000e+00 0.0000000e+00 0.0000000e+00 0.0000000e+00 0.0000000e+00\n",
            "  0.0000000e+00 0.0000000e+00 0.0000000e+00 0.0000000e+00 0.0000000e+00\n",
            "  0.0000000e+00 0.0000000e+00 0.0000000e+00 0.0000000e+00 0.0000000e+00\n",
            "  0.0000000e+00 0.0000000e+00 0.0000000e+00 0.0000000e+00 0.0000000e+00\n",
            "  0.0000000e+00 0.0000000e+00 0.0000000e+00]\n",
            " [0.0000000e+00 0.0000000e+00 0.0000000e+00 0.0000000e+00 0.0000000e+00\n",
            "  0.0000000e+00 0.0000000e+00 0.0000000e+00 0.0000000e+00 0.0000000e+00\n",
            "  0.0000000e+00 0.0000000e+00 0.0000000e+00 0.0000000e+00 0.0000000e+00\n",
            "  0.0000000e+00 0.0000000e+00 0.0000000e+00 0.0000000e+00 0.0000000e+00\n",
            "  0.0000000e+00 0.0000000e+00 0.0000000e+00 0.0000000e+00 0.0000000e+00\n",
            "  0.0000000e+00 0.0000000e+00 0.0000000e+00]\n",
            " [0.0000000e+00 0.0000000e+00 0.0000000e+00 0.0000000e+00 0.0000000e+00\n",
            "  0.0000000e+00 0.0000000e+00 0.0000000e+00 0.0000000e+00 0.0000000e+00\n",
            "  0.0000000e+00 0.0000000e+00 0.0000000e+00 0.0000000e+00 0.0000000e+00\n",
            "  0.0000000e+00 0.0000000e+00 0.0000000e+00 0.0000000e+00 0.0000000e+00\n",
            "  0.0000000e+00 0.0000000e+00 0.0000000e+00 0.0000000e+00 0.0000000e+00\n",
            "  0.0000000e+00 0.0000000e+00 0.0000000e+00]\n",
            " [0.0000000e+00 0.0000000e+00 0.0000000e+00 0.0000000e+00 0.0000000e+00\n",
            "  0.0000000e+00 0.0000000e+00 0.0000000e+00 0.0000000e+00 0.0000000e+00\n",
            "  0.0000000e+00 0.0000000e+00 0.0000000e+00 0.0000000e+00 0.0000000e+00\n",
            "  0.0000000e+00 0.0000000e+00 0.0000000e+00 0.0000000e+00 0.0000000e+00\n",
            "  0.0000000e+00 0.0000000e+00 0.0000000e+00 0.0000000e+00 0.0000000e+00\n",
            "  0.0000000e+00 0.0000000e+00 0.0000000e+00]\n",
            " [0.0000000e+00 0.0000000e+00 0.0000000e+00 0.0000000e+00 0.0000000e+00\n",
            "  0.0000000e+00 0.0000000e+00 0.0000000e+00 0.0000000e+00 0.0000000e+00\n",
            "  0.0000000e+00 0.0000000e+00 4.6136101e-05 2.7681663e-04 2.7681663e-04\n",
            "  2.7681663e-04 1.9377163e-03 2.0915035e-03 2.6912726e-03 3.9984621e-04\n",
            "  2.5528644e-03 3.9215689e-03 3.7985391e-03 1.9530950e-03 0.0000000e+00\n",
            "  0.0000000e+00 0.0000000e+00 0.0000000e+00]\n",
            " [0.0000000e+00 0.0000000e+00 0.0000000e+00 0.0000000e+00 0.0000000e+00\n",
            "  0.0000000e+00 0.0000000e+00 0.0000000e+00 4.6136102e-04 5.5363326e-04\n",
            "  1.4455979e-03 2.3683200e-03 2.6143792e-03 3.8908112e-03 3.8908112e-03\n",
            "  3.8908112e-03 3.8908112e-03 3.8908112e-03 3.4602077e-03 2.6451366e-03\n",
            "  3.8908112e-03 3.7216456e-03 2.9988466e-03 9.8423695e-04 0.0000000e+00\n",
            "  0.0000000e+00 0.0000000e+00 0.0000000e+00]\n",
            " [0.0000000e+00 0.0000000e+00 0.0000000e+00 0.0000000e+00 0.0000000e+00\n",
            "  0.0000000e+00 0.0000000e+00 7.5355632e-04 3.6601308e-03 3.8908112e-03\n",
            "  3.8908112e-03 3.8908112e-03 3.8908112e-03 3.8908112e-03 3.8908112e-03\n",
            "  3.8908112e-03 3.8908112e-03 3.8600538e-03 1.4302192e-03 1.2610535e-03\n",
            "  1.2610535e-03 8.6120726e-04 5.9976935e-04 0.0000000e+00 0.0000000e+00\n",
            "  0.0000000e+00 0.0000000e+00 0.0000000e+00]\n",
            " [0.0000000e+00 0.0000000e+00 0.0000000e+00 0.0000000e+00 0.0000000e+00\n",
            "  0.0000000e+00 0.0000000e+00 2.7681663e-04 3.3679355e-03 3.8908112e-03\n",
            "  3.8908112e-03 3.8908112e-03 3.8908112e-03 3.8908112e-03 3.0449827e-03\n",
            "  2.7989235e-03 3.7985391e-03 3.7062669e-03 0.0000000e+00 0.0000000e+00\n",
            "  0.0000000e+00 0.0000000e+00 0.0000000e+00 0.0000000e+00 0.0000000e+00\n",
            "  0.0000000e+00 0.0000000e+00 0.0000000e+00]\n",
            " [0.0000000e+00 0.0000000e+00 0.0000000e+00 0.0000000e+00 0.0000000e+00\n",
            "  0.0000000e+00 0.0000000e+00 0.0000000e+00 1.2302961e-03 2.3990774e-03\n",
            "  1.6455210e-03 3.8908112e-03 3.8908112e-03 3.1526336e-03 1.6916571e-04\n",
            "  0.0000000e+00 6.6128414e-04 2.3683200e-03 0.0000000e+00 0.0000000e+00\n",
            "  0.0000000e+00 0.0000000e+00 0.0000000e+00 0.0000000e+00 0.0000000e+00\n",
            "  0.0000000e+00 0.0000000e+00 0.0000000e+00]\n",
            " [0.0000000e+00 0.0000000e+00 0.0000000e+00 0.0000000e+00 0.0000000e+00\n",
            "  0.0000000e+00 0.0000000e+00 0.0000000e+00 0.0000000e+00 2.1530181e-04\n",
            "  1.5378702e-05 2.3683200e-03 3.8908112e-03 1.3840831e-03 0.0000000e+00\n",
            "  0.0000000e+00 0.0000000e+00 0.0000000e+00 0.0000000e+00 0.0000000e+00\n",
            "  0.0000000e+00 0.0000000e+00 0.0000000e+00 0.0000000e+00 0.0000000e+00\n",
            "  0.0000000e+00 0.0000000e+00 0.0000000e+00]\n",
            " [0.0000000e+00 0.0000000e+00 0.0000000e+00 0.0000000e+00 0.0000000e+00\n",
            "  0.0000000e+00 0.0000000e+00 0.0000000e+00 0.0000000e+00 0.0000000e+00\n",
            "  0.0000000e+00 2.1376396e-03 3.8908112e-03 2.9219531e-03 3.0757405e-05\n",
            "  0.0000000e+00 0.0000000e+00 0.0000000e+00 0.0000000e+00 0.0000000e+00\n",
            "  0.0000000e+00 0.0000000e+00 0.0000000e+00 0.0000000e+00 0.0000000e+00\n",
            "  0.0000000e+00 0.0000000e+00 0.0000000e+00]\n",
            " [0.0000000e+00 0.0000000e+00 0.0000000e+00 0.0000000e+00 0.0000000e+00\n",
            "  0.0000000e+00 0.0000000e+00 0.0000000e+00 0.0000000e+00 0.0000000e+00\n",
            "  0.0000000e+00 1.6916571e-04 2.9219531e-03 3.8908112e-03 1.0765091e-03\n",
            "  0.0000000e+00 0.0000000e+00 0.0000000e+00 0.0000000e+00 0.0000000e+00\n",
            "  0.0000000e+00 0.0000000e+00 0.0000000e+00 0.0000000e+00 0.0000000e+00\n",
            "  0.0000000e+00 0.0000000e+00 0.0000000e+00]\n",
            " [0.0000000e+00 0.0000000e+00 0.0000000e+00 0.0000000e+00 0.0000000e+00\n",
            "  0.0000000e+00 0.0000000e+00 0.0000000e+00 0.0000000e+00 0.0000000e+00\n",
            "  0.0000000e+00 0.0000000e+00 5.3825456e-04 3.7062669e-03 3.4602077e-03\n",
            "  2.4605922e-03 1.6608997e-03 1.5378702e-05 0.0000000e+00 0.0000000e+00\n",
            "  0.0000000e+00 0.0000000e+00 0.0000000e+00 0.0000000e+00 0.0000000e+00\n",
            "  0.0000000e+00 0.0000000e+00 0.0000000e+00]\n",
            " [0.0000000e+00 0.0000000e+00 0.0000000e+00 0.0000000e+00 0.0000000e+00\n",
            "  0.0000000e+00 0.0000000e+00 0.0000000e+00 0.0000000e+00 0.0000000e+00\n",
            "  0.0000000e+00 0.0000000e+00 0.0000000e+00 1.2456748e-03 3.6908882e-03\n",
            "  3.8908112e-03 3.8908112e-03 1.8300654e-03 3.8446751e-04 0.0000000e+00\n",
            "  0.0000000e+00 0.0000000e+00 0.0000000e+00 0.0000000e+00 0.0000000e+00\n",
            "  0.0000000e+00 0.0000000e+00 0.0000000e+00]\n",
            " [0.0000000e+00 0.0000000e+00 0.0000000e+00 0.0000000e+00 0.0000000e+00\n",
            "  0.0000000e+00 0.0000000e+00 0.0000000e+00 0.0000000e+00 0.0000000e+00\n",
            "  0.0000000e+00 0.0000000e+00 0.0000000e+00 0.0000000e+00 6.9204153e-04\n",
            "  2.8604383e-03 3.8908112e-03 3.8908112e-03 2.3068052e-03 4.1522493e-04\n",
            "  0.0000000e+00 0.0000000e+00 0.0000000e+00 0.0000000e+00 0.0000000e+00\n",
            "  0.0000000e+00 0.0000000e+00 0.0000000e+00]\n",
            " [0.0000000e+00 0.0000000e+00 0.0000000e+00 0.0000000e+00 0.0000000e+00\n",
            "  0.0000000e+00 0.0000000e+00 0.0000000e+00 0.0000000e+00 0.0000000e+00\n",
            "  0.0000000e+00 0.0000000e+00 0.0000000e+00 0.0000000e+00 0.0000000e+00\n",
            "  2.4605924e-04 1.4302192e-03 3.8754325e-03 3.8908112e-03 2.8758170e-03\n",
            "  0.0000000e+00 0.0000000e+00 0.0000000e+00 0.0000000e+00 0.0000000e+00\n",
            "  0.0000000e+00 0.0000000e+00 0.0000000e+00]\n",
            " [0.0000000e+00 0.0000000e+00 0.0000000e+00 0.0000000e+00 0.0000000e+00\n",
            "  0.0000000e+00 0.0000000e+00 0.0000000e+00 0.0000000e+00 0.0000000e+00\n",
            "  0.0000000e+00 0.0000000e+00 0.0000000e+00 0.0000000e+00 0.0000000e+00\n",
            "  0.0000000e+00 0.0000000e+00 3.8292964e-03 3.8908112e-03 3.8292964e-03\n",
            "  9.8423695e-04 0.0000000e+00 0.0000000e+00 0.0000000e+00 0.0000000e+00\n",
            "  0.0000000e+00 0.0000000e+00 0.0000000e+00]\n",
            " [0.0000000e+00 0.0000000e+00 0.0000000e+00 0.0000000e+00 0.0000000e+00\n",
            "  0.0000000e+00 0.0000000e+00 0.0000000e+00 0.0000000e+00 0.0000000e+00\n",
            "  0.0000000e+00 0.0000000e+00 0.0000000e+00 0.0000000e+00 7.0742023e-04\n",
            "  1.9992313e-03 2.8143022e-03 3.8908112e-03 3.8908112e-03 3.1833909e-03\n",
            "  3.0757405e-05 0.0000000e+00 0.0000000e+00 0.0000000e+00 0.0000000e+00\n",
            "  0.0000000e+00 0.0000000e+00 0.0000000e+00]\n",
            " [0.0000000e+00 0.0000000e+00 0.0000000e+00 0.0000000e+00 0.0000000e+00\n",
            "  0.0000000e+00 0.0000000e+00 0.0000000e+00 0.0000000e+00 0.0000000e+00\n",
            "  0.0000000e+00 0.0000000e+00 5.9976935e-04 2.2760478e-03 3.5217225e-03\n",
            "  3.8908112e-03 3.8908112e-03 3.8908112e-03 3.8446751e-03 2.7989235e-03\n",
            "  0.0000000e+00 0.0000000e+00 0.0000000e+00 0.0000000e+00 0.0000000e+00\n",
            "  0.0000000e+00 0.0000000e+00 0.0000000e+00]\n",
            " [0.0000000e+00 0.0000000e+00 0.0000000e+00 0.0000000e+00 0.0000000e+00\n",
            "  0.0000000e+00 0.0000000e+00 0.0000000e+00 0.0000000e+00 0.0000000e+00\n",
            "  3.6908881e-04 1.7531719e-03 3.3986929e-03 3.8908112e-03 3.8908112e-03\n",
            "  3.8908112e-03 3.8908112e-03 3.0911188e-03 1.1995387e-03 0.0000000e+00\n",
            "  0.0000000e+00 0.0000000e+00 0.0000000e+00 0.0000000e+00 0.0000000e+00\n",
            "  0.0000000e+00 0.0000000e+00 0.0000000e+00]\n",
            " [0.0000000e+00 0.0000000e+00 0.0000000e+00 0.0000000e+00 0.0000000e+00\n",
            "  0.0000000e+00 0.0000000e+00 0.0000000e+00 3.5371011e-04 1.0149943e-03\n",
            "  3.2756634e-03 3.8908112e-03 3.8908112e-03 3.8908112e-03 3.8908112e-03\n",
            "  3.0449827e-03 1.2456748e-03 3.0757405e-05 0.0000000e+00 0.0000000e+00\n",
            "  0.0000000e+00 0.0000000e+00 0.0000000e+00 0.0000000e+00 0.0000000e+00\n",
            "  0.0000000e+00 0.0000000e+00 0.0000000e+00]\n",
            " [0.0000000e+00 0.0000000e+00 0.0000000e+00 0.0000000e+00 0.0000000e+00\n",
            "  0.0000000e+00 2.7681663e-04 2.6297579e-03 3.3679355e-03 3.8908112e-03\n",
            "  3.8908112e-03 3.8908112e-03 3.8908112e-03 2.9988466e-03 1.2302961e-03\n",
            "  1.3840832e-04 0.0000000e+00 0.0000000e+00 0.0000000e+00 0.0000000e+00\n",
            "  0.0000000e+00 0.0000000e+00 0.0000000e+00 0.0000000e+00 0.0000000e+00\n",
            "  0.0000000e+00 0.0000000e+00 0.0000000e+00]\n",
            " [0.0000000e+00 0.0000000e+00 0.0000000e+00 0.0000000e+00 8.4582856e-04\n",
            "  2.6451366e-03 3.4755864e-03 3.8908112e-03 3.8908112e-03 3.8908112e-03\n",
            "  3.8908112e-03 3.7524030e-03 2.0453674e-03 1.6916571e-04 0.0000000e+00\n",
            "  0.0000000e+00 0.0000000e+00 0.0000000e+00 0.0000000e+00 0.0000000e+00\n",
            "  0.0000000e+00 0.0000000e+00 0.0000000e+00 0.0000000e+00 0.0000000e+00\n",
            "  0.0000000e+00 0.0000000e+00 0.0000000e+00]\n",
            " [0.0000000e+00 0.0000000e+00 0.0000000e+00 0.0000000e+00 2.0915035e-03\n",
            "  3.8908112e-03 3.8908112e-03 3.8908112e-03 3.2602844e-03 2.0761248e-03\n",
            "  2.0299887e-03 2.4605924e-04 0.0000000e+00 0.0000000e+00 0.0000000e+00\n",
            "  0.0000000e+00 0.0000000e+00 0.0000000e+00 0.0000000e+00 0.0000000e+00\n",
            "  0.0000000e+00 0.0000000e+00 0.0000000e+00 0.0000000e+00 0.0000000e+00\n",
            "  0.0000000e+00 0.0000000e+00 0.0000000e+00]\n",
            " [0.0000000e+00 0.0000000e+00 0.0000000e+00 0.0000000e+00 0.0000000e+00\n",
            "  0.0000000e+00 0.0000000e+00 0.0000000e+00 0.0000000e+00 0.0000000e+00\n",
            "  0.0000000e+00 0.0000000e+00 0.0000000e+00 0.0000000e+00 0.0000000e+00\n",
            "  0.0000000e+00 0.0000000e+00 0.0000000e+00 0.0000000e+00 0.0000000e+00\n",
            "  0.0000000e+00 0.0000000e+00 0.0000000e+00 0.0000000e+00 0.0000000e+00\n",
            "  0.0000000e+00 0.0000000e+00 0.0000000e+00]\n",
            " [0.0000000e+00 0.0000000e+00 0.0000000e+00 0.0000000e+00 0.0000000e+00\n",
            "  0.0000000e+00 0.0000000e+00 0.0000000e+00 0.0000000e+00 0.0000000e+00\n",
            "  0.0000000e+00 0.0000000e+00 0.0000000e+00 0.0000000e+00 0.0000000e+00\n",
            "  0.0000000e+00 0.0000000e+00 0.0000000e+00 0.0000000e+00 0.0000000e+00\n",
            "  0.0000000e+00 0.0000000e+00 0.0000000e+00 0.0000000e+00 0.0000000e+00\n",
            "  0.0000000e+00 0.0000000e+00 0.0000000e+00]\n",
            " [0.0000000e+00 0.0000000e+00 0.0000000e+00 0.0000000e+00 0.0000000e+00\n",
            "  0.0000000e+00 0.0000000e+00 0.0000000e+00 0.0000000e+00 0.0000000e+00\n",
            "  0.0000000e+00 0.0000000e+00 0.0000000e+00 0.0000000e+00 0.0000000e+00\n",
            "  0.0000000e+00 0.0000000e+00 0.0000000e+00 0.0000000e+00 0.0000000e+00\n",
            "  0.0000000e+00 0.0000000e+00 0.0000000e+00 0.0000000e+00 0.0000000e+00\n",
            "  0.0000000e+00 0.0000000e+00 0.0000000e+00]] 5\n"
          ]
        }
      ]
    },
    {
      "cell_type": "code",
      "source": [
        "for image,label in example_dataset.take(1):\n",
        "  plt.imshow(image.numpy())\n",
        "  plt.title(label.numpy())\n",
        "  plt.axis(\"off\")"
      ],
      "metadata": {
        "colab": {
          "base_uri": "https://localhost:8080/",
          "height": 428
        },
        "id": "iyol5D6eH5Mm",
        "outputId": "1c6fbd0d-0ad0-47c4-d7ee-71e84f6aee72"
      },
      "execution_count": 94,
      "outputs": [
        {
          "output_type": "display_data",
          "data": {
            "text/plain": [
              "<Figure size 640x480 with 1 Axes>"
            ],
            "image/png": "[encoded data removed]"
          },
          "metadata": {}
        }
      ]
    },
    {
      "cell_type": "markdown",
      "source": [
        "The above image will remain same ,since we are not doing shuffling hence always pichs the first element tuple of example_dataset"
      ],
      "metadata": {
        "id": "gfvzml10ID9e"
      }
    },
    {
      "cell_type": "code",
      "source": [
        "example_dataset = example_dataset.shuffle(buffer_size=10000)\n",
        "example_dataset"
      ],
      "metadata": {
        "colab": {
          "base_uri": "https://localhost:8080/"
        },
        "id": "SoxqdX45INUB",
        "outputId": "d00930ef-8d11-4831-a63d-647a9fac330d"
      },
      "execution_count": 95,
      "outputs": [
        {
          "output_type": "execute_result",
          "data": {
            "text/plain": [
              "<_ShuffleDataset element_spec=(TensorSpec(shape=(28, 28), dtype=tf.float32, name=None), TensorSpec(shape=(), dtype=tf.uint8, name=None))>"
            ]
          },
          "metadata": {},
          "execution_count": 95
        }
      ]
    },
    {
      "cell_type": "code",
      "source": [
        "for image,label in example_dataset.take(1):\n",
        "  plt.imshow(image.numpy())\n",
        "  plt.title(label.numpy())\n",
        "  plt.axis(\"off\")"
      ],
      "metadata": {
        "colab": {
          "base_uri": "https://localhost:8080/",
          "height": 428
        },
        "id": "Jb6Su9nVIQXU",
        "outputId": "745b2f11-6f83-4175-8b48-9d51ed29ef98"
      },
      "execution_count": 101,
      "outputs": [
        {
          "output_type": "display_data",
          "data": {
            "text/plain": [
              "<Figure size 640x480 with 1 Axes>"
            ],
            "image/png": "[encoded data removed]"
          },
          "metadata": {}
        }
      ]
    },
    {
      "cell_type": "code",
      "source": [],
      "metadata": {
        "id": "LYCVjDrYJo9Q"
      },
      "execution_count": null,
      "outputs": []
    },
    {
      "cell_type": "markdown",
      "source": [
        " without caching, the mapping operation (or any other dataset transformation like .map(), .shuffle(), .batch()) will be applied every time you iterate over the dataset."
      ],
      "metadata": {
        "id": "932S2_VjISlG"
      }
    },
    {
      "cell_type": "markdown",
      "source": [
        "When you use .cache(), the dataset transformation results (e.g., the output of the .map() operation) are cached after the first iteration:"
      ],
      "metadata": {
        "id": "Tj_uKYAuJtIT"
      }
    },
    {
      "cell_type": "code",
      "source": [
        "example_dataset"
      ],
      "metadata": {
        "colab": {
          "base_uri": "https://localhost:8080/"
        },
        "id": "1F3SddBNJxlM",
        "outputId": "df22fb9b-a330-4e18-e27c-7a5d51185c6b"
      },
      "execution_count": 102,
      "outputs": [
        {
          "output_type": "execute_result",
          "data": {
            "text/plain": [
              "<_ShuffleDataset element_spec=(TensorSpec(shape=(28, 28), dtype=tf.float32, name=None), TensorSpec(shape=(), dtype=tf.uint8, name=None))>"
            ]
          },
          "metadata": {},
          "execution_count": 102
        }
      ]
    },
    {
      "cell_type": "code",
      "source": [
        "example_dataset = example_dataset.cache()\n",
        "example_dataset"
      ],
      "metadata": {
        "colab": {
          "base_uri": "https://localhost:8080/"
        },
        "id": "RrmdE5VSJzDv",
        "outputId": "f82ee9cb-75f0-45ba-cc10-ba7280be09ec"
      },
      "execution_count": 103,
      "outputs": [
        {
          "output_type": "execute_result",
          "data": {
            "text/plain": [
              "<CacheDataset element_spec=(TensorSpec(shape=(28, 28), dtype=tf.float32, name=None), TensorSpec(shape=(), dtype=tf.uint8, name=None))>"
            ]
          },
          "metadata": {},
          "execution_count": 103
        }
      ]
    },
    {
      "cell_type": "markdown",
      "source": [
        "Shuffling"
      ],
      "metadata": {
        "id": "PrKbtTpOJ3WT"
      }
    },
    {
      "cell_type": "code",
      "source": [
        "example_dataset = example_dataset.shuffle(len(example_dataset))\n",
        "\n",
        "for (img, label) in example_dataset:\n",
        "  print(img.numpy().shape, label.numpy())\n",
        "  break"
      ],
      "metadata": {
        "colab": {
          "base_uri": "https://localhost:8080/"
        },
        "id": "9hJQK2mPJ0-B",
        "outputId": "0559ae01-1dde-4dd5-bc26-34b14724d8c1"
      },
      "execution_count": 105,
      "outputs": [
        {
          "output_type": "stream",
          "name": "stdout",
          "text": [
            "(28, 28) 9\n"
          ]
        }
      ]
    },
    {
      "cell_type": "markdown",
      "source": [
        "Batching"
      ],
      "metadata": {
        "id": "dm4DA8erJ42i"
      }
    },
    {
      "cell_type": "code",
      "source": [
        "print(\"Before batching\")\n",
        "example_dataset"
      ],
      "metadata": {
        "colab": {
          "base_uri": "https://localhost:8080/"
        },
        "id": "nLiDEMVeKDmu",
        "outputId": "9a990be6-d6f6-43de-8dd5-ec9e4ec23db2"
      },
      "execution_count": 106,
      "outputs": [
        {
          "output_type": "stream",
          "name": "stdout",
          "text": [
            "Before batching\n"
          ]
        },
        {
          "output_type": "execute_result",
          "data": {
            "text/plain": [
              "<_ShuffleDataset element_spec=(TensorSpec(shape=(28, 28), dtype=tf.float32, name=None), TensorSpec(shape=(), dtype=tf.uint8, name=None))>"
            ]
          },
          "metadata": {},
          "execution_count": 106
        }
      ]
    },
    {
      "cell_type": "code",
      "source": [
        "example_dataset = example_dataset.batch(32)\n",
        "print(\"After\")\n",
        "example_dataset"
      ],
      "metadata": {
        "colab": {
          "base_uri": "https://localhost:8080/"
        },
        "id": "OXxjsnw0KAXD",
        "outputId": "a32047fd-1a8c-488d-ef60-d9299d03b717"
      },
      "execution_count": 107,
      "outputs": [
        {
          "output_type": "stream",
          "name": "stdout",
          "text": [
            "After\n"
          ]
        },
        {
          "output_type": "execute_result",
          "data": {
            "text/plain": [
              "<_BatchDataset element_spec=(TensorSpec(shape=(None, 28, 28), dtype=tf.float32, name=None), TensorSpec(shape=(None,), dtype=tf.uint8, name=None))>"
            ]
          },
          "metadata": {},
          "execution_count": 107
        }
      ]
    },
    {
      "cell_type": "markdown",
      "source": [
        "Here None is 32"
      ],
      "metadata": {
        "id": "sbF4g5sTKLgT"
      }
    },
    {
      "cell_type": "markdown",
      "source": [
        "How one batch looks like"
      ],
      "metadata": {
        "id": "0IerPgYvKTwK"
      }
    },
    {
      "cell_type": "code",
      "source": [
        "for image,label in example_dataset.take(1):\n",
        "  print(image.numpy().shape,label.numpy().shape)"
      ],
      "metadata": {
        "colab": {
          "base_uri": "https://localhost:8080/"
        },
        "id": "-Kw-YxZBKOkb",
        "outputId": "4b490d57-2ddc-4f58-f7b9-cacb91b5d108"
      },
      "execution_count": 108,
      "outputs": [
        {
          "output_type": "stream",
          "name": "stdout",
          "text": [
            "(32, 28, 28) (32,)\n"
          ]
        }
      ]
    },
    {
      "cell_type": "code",
      "source": [
        "for image,label in example_dataset.take(1):\n",
        "  print(image.numpy().shape,label.numpy())"
      ],
      "metadata": {
        "colab": {
          "base_uri": "https://localhost:8080/"
        },
        "id": "IqyVghCmKSwQ",
        "outputId": "111e535f-8278-4896-f88a-c1a966ba9a2c"
      },
      "execution_count": 110,
      "outputs": [
        {
          "output_type": "stream",
          "name": "stdout",
          "text": [
            "(32, 28, 28) [7 3 0 7 9 7 2 9 3 4 7 3 0 0 4 4 3 6 6 3 4 4 7 3 3 2 6 5 5 7 5 5]\n"
          ]
        }
      ]
    },
    {
      "cell_type": "markdown",
      "source": [
        "he .prefetch(tf.data.AUTOTUNE) function in TensorFlow is used to optimize the input data pipeline by preloading data for the next step (e.g., training) while the current step is still being executed. This ensures that the data loading and preprocessing don't become a bottleneck during training or inference."
      ],
      "metadata": {
        "id": "Z4xYoeooKYK6"
      }
    },
    {
      "cell_type": "markdown",
      "source": [
        "It allows the model to process one batch while the next batch is being prepared in the background.\n",
        "\n",
        "This overlapping helps utilize both the CPU (for data loading and preprocessing) and the GPU/TPU (for model training) more effectively."
      ],
      "metadata": {
        "id": "R6G5mzPzKknG"
      }
    },
    {
      "cell_type": "code",
      "source": [
        "example_dataset = example_dataset.prefetch(tf.data.AUTOTUNE)\n",
        "\n",
        "example_dataset"
      ],
      "metadata": {
        "colab": {
          "base_uri": "https://localhost:8080/"
        },
        "id": "yCjvrc_kKnA4",
        "outputId": "8007eff1-2c61-4dc2-c846-5656b9e465b7"
      },
      "execution_count": 111,
      "outputs": [
        {
          "output_type": "execute_result",
          "data": {
            "text/plain": [
              "<_PrefetchDataset element_spec=(TensorSpec(shape=(None, 28, 28), dtype=tf.float32, name=None), TensorSpec(shape=(None,), dtype=tf.uint8, name=None))>"
            ]
          },
          "metadata": {},
          "execution_count": 111
        }
      ]
    },
    {
      "cell_type": "markdown",
      "source": [
        "## FINAL PIPELINE (Summing up everything)"
      ],
      "metadata": {
        "id": "PN_YC2YoKod6"
      }
    },
    {
      "cell_type": "code",
      "source": [
        "train_dataset = tf.data.Dataset.from_tensor_slices((X_train, y_train))\n",
        "train_dataset = train_dataset.map(normalize_img)\n",
        "train_dataset = train_dataset.cache()\n",
        "train_dataset = train_dataset.shuffle(len(train_dataset))\n",
        "train_dataset = train_dataset.batch(64)\n",
        "train_dataset = train_dataset.prefetch(tf.data.AUTOTUNE)\n"
      ],
      "metadata": {
        "id": "UPg9c-hWK1Vn"
      },
      "execution_count": 112,
      "outputs": []
    },
    {
      "cell_type": "code",
      "source": [
        "train_dataset"
      ],
      "metadata": {
        "colab": {
          "base_uri": "https://localhost:8080/"
        },
        "id": "Bz7svho3KxDF",
        "outputId": "c54ec429-3c68-4bd3-b8d9-8dfa770c1cef"
      },
      "execution_count": 113,
      "outputs": [
        {
          "output_type": "execute_result",
          "data": {
            "text/plain": [
              "<_PrefetchDataset element_spec=(TensorSpec(shape=(None, 28, 28), dtype=tf.float32, name=None), TensorSpec(shape=(None,), dtype=tf.uint8, name=None))>"
            ]
          },
          "metadata": {},
          "execution_count": 113
        }
      ]
    },
    {
      "cell_type": "code",
      "source": [
        "for images ,labels in train_dataset.take(1):\n",
        "  print(images.shape)\n",
        "  print(label.shape)\n",
        "  plt.imshow(images[0])\n",
        "  plt.title(labels[0].numpy())\n",
        "  plt.axis(\"off\")"
      ],
      "metadata": {
        "colab": {
          "base_uri": "https://localhost:8080/",
          "height": 463
        },
        "id": "QeUiRxyTLTGz",
        "outputId": "00e487c5-fc3c-4184-c9e1-2f3fb3e89740"
      },
      "execution_count": 122,
      "outputs": [
        {
          "output_type": "stream",
          "name": "stdout",
          "text": [
            "(64, 28, 28)\n",
            "(32,)\n"
          ]
        },
        {
          "output_type": "display_data",
          "data": {
            "text/plain": [
              "<Figure size 640x480 with 1 Axes>"
            ],
            "image/png": "[encoded data removed]"
          },
          "metadata": {}
        }
      ]
    },
    {
      "cell_type": "code",
      "source": [
        "test_dataset = tf.data.Dataset.from_tensor_slices((X_test, y_test))\n",
        "test_dataset = test_dataset.map(normalize_img)\n",
        "test_dataset = test_dataset.cache()\n",
        "\n",
        "test_dataset = test_dataset.batch(64)\n",
        "test_dataset = test_dataset.prefetch(tf.data.AUTOTUNE)\n",
        "\n",
        "test_dataset"
      ],
      "metadata": {
        "colab": {
          "base_uri": "https://localhost:8080/"
        },
        "id": "3FDTLPiiLWVc",
        "outputId": "59863166-e3ad-4798-941e-e4b110925863"
      },
      "execution_count": 123,
      "outputs": [
        {
          "output_type": "execute_result",
          "data": {
            "text/plain": [
              "<_PrefetchDataset element_spec=(TensorSpec(shape=(None, 28, 28), dtype=tf.float32, name=None), TensorSpec(shape=(None,), dtype=tf.uint8, name=None))>"
            ]
          },
          "metadata": {},
          "execution_count": 123
        }
      ]
    },
    {
      "cell_type": "markdown",
      "source": [
        "Now simply create model\n",
        "ans do\n",
        "\n",
        "model.fit(train_dataset)"
      ],
      "metadata": {
        "id": "zr0kF5f0MA5F"
      }
    }
  ]
}